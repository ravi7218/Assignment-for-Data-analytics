{
 "cells": [
  {
   "cell_type": "markdown",
   "id": "08c66ea5",
   "metadata": {
    "id": "08c66ea5"
   },
   "source": [
    "## Programming Assignment_2\n",
    "-------------"
   ]
  },
  {
   "cell_type": "markdown",
   "id": "4e50cf42",
   "metadata": {
    "id": "4e50cf42"
   },
   "source": [
    "1. Write a Python program to convert kilometers to miles?\n"
   ]
  },
  {
   "cell_type": "markdown",
   "id": "0df4e6bf",
   "metadata": {
    "id": "0df4e6bf"
   },
   "source": [
    "### 2.Write a Python program to convert Celsius to Fahrenheit?"
   ]
  },
  {
   "cell_type": "markdown",
   "id": "Q-iUx4CQoppc",
   "metadata": {
    "id": "Q-iUx4CQoppc"
   },
   "source": []
  },
  {
   "cell_type": "markdown",
   "id": "46129b8e",
   "metadata": {
    "id": "46129b8e"
   },
   "source": [
    "3. Write a Python program to display calendar?\n"
   ]
  },
  {
   "cell_type": "markdown",
   "id": "db2bf0f7",
   "metadata": {
    "id": "db2bf0f7"
   },
   "source": [
    "### 4. Write a Python program to solve quadratic equation?"
   ]
  },
  {
   "cell_type": "markdown",
   "id": "f70f74c9",
   "metadata": {
    "id": "f70f74c9"
   },
   "source": [
    "5. Write a Python program to swap two variables without temp variable?"
   ]
  },
  {
   "cell_type": "code",
   "execution_count": null,
   "id": "f8624788",
   "metadata": {},
   "outputs": [],
   "source": []
  },
  {
   "cell_type": "markdown",
   "id": "ba114af7",
   "metadata": {},
   "source": [
    "# Q1"
   ]
  },
  {
   "cell_type": "code",
   "execution_count": 3,
   "id": "bbb40d58",
   "metadata": {},
   "outputs": [],
   "source": [
    "kilometer = 200"
   ]
  },
  {
   "cell_type": "code",
   "execution_count": 4,
   "id": "3d21248a",
   "metadata": {},
   "outputs": [],
   "source": [
    "conversion_factor = 0.621371"
   ]
  },
  {
   "cell_type": "code",
   "execution_count": 5,
   "id": "0ffdfb26",
   "metadata": {},
   "outputs": [
    {
     "name": "stdout",
     "output_type": "stream",
     "text": [
      "124.27420000000001\n"
     ]
    }
   ],
   "source": [
    "miles = kilometer * conversion_factor\n",
    "print(miles)"
   ]
  },
  {
   "cell_type": "markdown",
   "id": "af8498d3",
   "metadata": {},
   "source": [
    "# Q2"
   ]
  },
  {
   "cell_type": "code",
   "execution_count": 6,
   "id": "d45b1735",
   "metadata": {},
   "outputs": [],
   "source": [
    "celsius = 230"
   ]
  },
  {
   "cell_type": "code",
   "execution_count": 7,
   "id": "fd780a5e",
   "metadata": {},
   "outputs": [
    {
     "name": "stdout",
     "output_type": "stream",
     "text": [
      "446.0\n"
     ]
    }
   ],
   "source": [
    "fahrenheit = (celsius * 9/5) + 32\n",
    "print(fahrenheit)"
   ]
  },
  {
   "cell_type": "markdown",
   "id": "b6e2aecd",
   "metadata": {},
   "source": [
    "# Q3"
   ]
  },
  {
   "cell_type": "code",
   "execution_count": 11,
   "id": "58e53f48",
   "metadata": {},
   "outputs": [],
   "source": [
    "import calendar"
   ]
  },
  {
   "cell_type": "code",
   "execution_count": 13,
   "id": "5d2a1cb7",
   "metadata": {},
   "outputs": [
    {
     "name": "stdout",
     "output_type": "stream",
     "text": [
      "enter the year: 2023\n",
      "enter the month: 5\n"
     ]
    }
   ],
   "source": [
    "year = int(input('enter the year: '))\n",
    "month = int(input('enter the month: '))"
   ]
  },
  {
   "cell_type": "code",
   "execution_count": 14,
   "id": "b4ec06e9",
   "metadata": {},
   "outputs": [],
   "source": [
    "cal = calendar.month(year, month)"
   ]
  },
  {
   "cell_type": "code",
   "execution_count": 15,
   "id": "d4c23468",
   "metadata": {},
   "outputs": [
    {
     "name": "stdout",
     "output_type": "stream",
     "text": [
      "      May 2023\n",
      "Mo Tu We Th Fr Sa Su\n",
      " 1  2  3  4  5  6  7\n",
      " 8  9 10 11 12 13 14\n",
      "15 16 17 18 19 20 21\n",
      "22 23 24 25 26 27 28\n",
      "29 30 31\n",
      "\n"
     ]
    }
   ],
   "source": [
    "print(cal)"
   ]
  },
  {
   "cell_type": "markdown",
   "id": "d3dd3182",
   "metadata": {},
   "source": [
    "# Q5\n"
   ]
  },
  {
   "cell_type": "code",
   "execution_count": 16,
   "id": "89daf0e2",
   "metadata": {},
   "outputs": [
    {
     "name": "stdout",
     "output_type": "stream",
     "text": [
      "enter the value of variable a : 10\n",
      "enter the value of variable b : 20\n"
     ]
    }
   ],
   "source": [
    "a = int(input('enter the value of variable a : '))\n",
    "b = int(input('enter the value of variable b : '))"
   ]
  },
  {
   "cell_type": "code",
   "execution_count": 17,
   "id": "7ef4691b",
   "metadata": {},
   "outputs": [
    {
     "name": "stdout",
     "output_type": "stream",
     "text": [
      "Before swapping:\n",
      "a = 10\n",
      "b = 20\n"
     ]
    }
   ],
   "source": [
    "print(\"Before swapping:\")\n",
    "print(\"a =\", a)\n",
    "print(\"b =\", b)"
   ]
  },
  {
   "cell_type": "code",
   "execution_count": 18,
   "id": "55aba5cc",
   "metadata": {},
   "outputs": [],
   "source": [
    "a = a + b\n",
    "b = a - b\n",
    "a = a - b"
   ]
  },
  {
   "cell_type": "code",
   "execution_count": 19,
   "id": "c5d9bbdb",
   "metadata": {},
   "outputs": [
    {
     "name": "stdout",
     "output_type": "stream",
     "text": [
      "After swapping:\n",
      "a = 20\n",
      "b = 10\n"
     ]
    }
   ],
   "source": [
    "print(\"After swapping:\")\n",
    "print(\"a =\", a)\n",
    "print(\"b =\", b)"
   ]
  },
  {
   "cell_type": "code",
   "execution_count": null,
   "id": "64ff79ca",
   "metadata": {},
   "outputs": [],
   "source": []
  }
 ],
 "metadata": {
  "colab": {
   "provenance": []
  },
  "kernelspec": {
   "display_name": "Python 3 (ipykernel)",
   "language": "python",
   "name": "python3"
  },
  "language_info": {
   "codemirror_mode": {
    "name": "ipython",
    "version": 3
   },
   "file_extension": ".py",
   "mimetype": "text/x-python",
   "name": "python",
   "nbconvert_exporter": "python",
   "pygments_lexer": "ipython3",
   "version": "3.9.12"
  }
 },
 "nbformat": 4,
 "nbformat_minor": 5
}
