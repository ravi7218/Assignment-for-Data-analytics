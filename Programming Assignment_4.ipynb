{
 "cells": [
  {
   "cell_type": "markdown",
   "id": "20cb4340",
   "metadata": {
    "id": "20cb4340"
   },
   "source": [
    "## Programming Assignment_4\n",
    "----------------"
   ]
  },
  {
   "cell_type": "markdown",
   "id": "4fdb6695",
   "metadata": {
    "id": "4fdb6695"
   },
   "source": [
    "### 1. Write a Python Program to Find the Factorial of a Number?"
   ]
  },
  {
   "cell_type": "code",
   "execution_count": 1,
   "id": "hOeAnUwS8YPP",
   "metadata": {
    "id": "hOeAnUwS8YPP"
   },
   "outputs": [
    {
     "name": "stdout",
     "output_type": "stream",
     "text": [
      "Enter a number: 3\n"
     ]
    }
   ],
   "source": [
    "number = int(input(\"Enter a number: \"))"
   ]
  },
  {
   "cell_type": "code",
   "execution_count": 2,
   "id": "6271edaf",
   "metadata": {},
   "outputs": [],
   "source": [
    "factorial = 1"
   ]
  },
  {
   "cell_type": "code",
   "execution_count": 3,
   "id": "d7c338bd",
   "metadata": {},
   "outputs": [
    {
     "name": "stdout",
     "output_type": "stream",
     "text": [
      "The factorial of 3 is 6\n"
     ]
    }
   ],
   "source": [
    "if number < 0:\n",
    "    print(\"Factorial is not defined for negative numbers.\")\n",
    "elif number == 0:\n",
    "    print(\"The factorial of 0 is 1.\")\n",
    "else:\n",
    "    for i in range(1, number + 1):\n",
    "        factorial *= i\n",
    "    print(\"The factorial of\", number, \"is\", factorial)"
   ]
  },
  {
   "cell_type": "markdown",
   "id": "e6beef62",
   "metadata": {
    "id": "e6beef62"
   },
   "source": [
    "### 2. Write a Python Program to Display the multiplication Table?"
   ]
  },
  {
   "cell_type": "code",
   "execution_count": 4,
   "id": "KRlnRPqETMOx",
   "metadata": {
    "id": "KRlnRPqETMOx"
   },
   "outputs": [
    {
     "name": "stdout",
     "output_type": "stream",
     "text": [
      "Enter a number: 12\n"
     ]
    }
   ],
   "source": [
    "number = int(input(\"Enter a number: \"))"
   ]
  },
  {
   "cell_type": "code",
   "execution_count": 5,
   "id": "d660a4a9",
   "metadata": {},
   "outputs": [
    {
     "name": "stdout",
     "output_type": "stream",
     "text": [
      "Multiplication table for 12\n",
      "12 x 1 = 12\n",
      "12 x 2 = 24\n",
      "12 x 3 = 36\n",
      "12 x 4 = 48\n",
      "12 x 5 = 60\n",
      "12 x 6 = 72\n",
      "12 x 7 = 84\n",
      "12 x 8 = 96\n",
      "12 x 9 = 108\n",
      "12 x 10 = 120\n"
     ]
    }
   ],
   "source": [
    "print(\"Multiplication table for\", number)\n",
    "for i in range(1, 11):\n",
    "    product = number * i\n",
    "    print(number, \"x\", i, \"=\", product)"
   ]
  },
  {
   "cell_type": "markdown",
   "id": "-DGZq5N22z65",
   "metadata": {
    "id": "-DGZq5N22z65"
   },
   "source": []
  },
  {
   "cell_type": "markdown",
   "id": "7de7eba5",
   "metadata": {
    "id": "7de7eba5"
   },
   "source": [
    "### 3. Write a Python Program to Print the Fibonacci sequence?\n"
   ]
  },
  {
   "cell_type": "code",
   "execution_count": null,
   "id": "f95a62b6",
   "metadata": {},
   "outputs": [],
   "source": []
  },
  {
   "cell_type": "markdown",
   "id": "0446442e",
   "metadata": {
    "id": "0446442e"
   },
   "source": [
    "### 4. Write a Python Program to Check Armstrong Number?"
   ]
  },
  {
   "cell_type": "code",
   "execution_count": null,
   "id": "bfb8d7f2",
   "metadata": {},
   "outputs": [],
   "source": []
  },
  {
   "cell_type": "markdown",
   "id": "a6f9adfe",
   "metadata": {
    "id": "a6f9adfe"
   },
   "source": [
    "### 5. Write a Python Program to Find Armstrong Number in an Interval?"
   ]
  },
  {
   "cell_type": "code",
   "execution_count": null,
   "id": "b084a06a",
   "metadata": {},
   "outputs": [],
   "source": []
  },
  {
   "cell_type": "markdown",
   "id": "qbmbp0_822o1",
   "metadata": {
    "id": "qbmbp0_822o1"
   },
   "source": []
  },
  {
   "cell_type": "markdown",
   "id": "157cad60",
   "metadata": {
    "id": "157cad60"
   },
   "source": [
    "### 6. Write a Python Program to Find the Sum of Natural Numbers?"
   ]
  },
  {
   "cell_type": "code",
   "execution_count": 6,
   "id": "59f7d7b4",
   "metadata": {},
   "outputs": [
    {
     "name": "stdout",
     "output_type": "stream",
     "text": [
      "Enter a positive integer: 10\n"
     ]
    }
   ],
   "source": [
    "number = int(input(\"Enter a positive integer: \"))"
   ]
  },
  {
   "cell_type": "code",
   "execution_count": 7,
   "id": "1b120850",
   "metadata": {},
   "outputs": [],
   "source": [
    "sum_of_numbers = 0\n",
    "for i in range(1, number + 1):\n",
    "    sum_of_numbers += i"
   ]
  },
  {
   "cell_type": "code",
   "execution_count": 8,
   "id": "7efcfc14",
   "metadata": {},
   "outputs": [
    {
     "name": "stdout",
     "output_type": "stream",
     "text": [
      "The sum of natural numbers up to 10 is 55\n"
     ]
    }
   ],
   "source": [
    "print(\"The sum of natural numbers up to\", number, \"is\", sum_of_numbers)"
   ]
  },
  {
   "cell_type": "code",
   "execution_count": null,
   "id": "3a09c857",
   "metadata": {},
   "outputs": [],
   "source": []
  }
 ],
 "metadata": {
  "colab": {
   "provenance": []
  },
  "kernelspec": {
   "display_name": "Python 3 (ipykernel)",
   "language": "python",
   "name": "python3"
  },
  "language_info": {
   "codemirror_mode": {
    "name": "ipython",
    "version": 3
   },
   "file_extension": ".py",
   "mimetype": "text/x-python",
   "name": "python",
   "nbconvert_exporter": "python",
   "pygments_lexer": "ipython3",
   "version": "3.9.12"
  }
 },
 "nbformat": 4,
 "nbformat_minor": 5
}
