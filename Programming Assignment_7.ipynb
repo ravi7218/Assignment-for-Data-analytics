{
 "cells": [
  {
   "cell_type": "markdown",
   "id": "35297a20",
   "metadata": {},
   "source": [
    "## Programming Basic Assignment 7"
   ]
  },
  {
   "cell_type": "markdown",
   "id": "27349114",
   "metadata": {},
   "source": [
    "### 1. Write a Python Program to find sum of array?"
   ]
  },
  {
   "cell_type": "code",
   "execution_count": 5,
   "id": "569decf1",
   "metadata": {},
   "outputs": [
    {
     "name": "stdout",
     "output_type": "stream",
     "text": [
      "15\n"
     ]
    }
   ],
   "source": [
    "array = [1, 2, 3, 4, 5]\n",
    "\n",
    "sum = 0\n",
    "for element in array:\n",
    "  sum += element\n",
    "\n",
    "print(sum)"
   ]
  },
  {
   "cell_type": "markdown",
   "id": "171a980d",
   "metadata": {},
   "source": [
    "### 2. Write a Python Program to find largest element in an array?\n"
   ]
  },
  {
   "cell_type": "code",
   "execution_count": 4,
   "id": "82feb1da",
   "metadata": {},
   "outputs": [
    {
     "name": "stdout",
     "output_type": "stream",
     "text": [
      "largest element is : 674\n"
     ]
    }
   ],
   "source": [
    "array = [5,343,42,8,656,5,7,674,54,35,46,2,34,64,563]\n",
    "print(\"largest element is :\", max(array))"
   ]
  },
  {
   "cell_type": "markdown",
   "id": "21613246",
   "metadata": {},
   "source": [
    "### 3. Write a Python Program for array rotation?"
   ]
  },
  {
   "cell_type": "code",
   "execution_count": 5,
   "id": "8f0f5a33",
   "metadata": {},
   "outputs": [
    {
     "name": "stdout",
     "output_type": "stream",
     "text": [
      "The rotated array is: [4, 5, 6, 7, 8, 9, 1, 2, 3]\n"
     ]
    }
   ],
   "source": [
    "def rotate_array(array, rotation_count):\n",
    "  \n",
    "  rotated_array = []\n",
    "  for i in range(len(array)):\n",
    "    new_index = (i + rotation_count) % len(array)\n",
    "    rotated_array.append(array[new_index])\n",
    "  return rotated_array\n",
    "\n",
    "\n",
    "if __name__ == \"__main__\":\n",
    "  array = [1, 2, 3, 4, 5, 6, 7, 8, 9]\n",
    "  rotation_count = 3\n",
    "  rotated_array = rotate_array(array, rotation_count)\n",
    "  print(\"The rotated array is:\", rotated_array)\n"
   ]
  },
  {
   "cell_type": "markdown",
   "id": "3e52d939",
   "metadata": {},
   "source": [
    "### 4. Write a Python Program to Split the array and add the first part to the end?"
   ]
  },
  {
   "cell_type": "code",
   "execution_count": 6,
   "id": "ccf4e446",
   "metadata": {},
   "outputs": [
    {
     "name": "stdout",
     "output_type": "stream",
     "text": [
      "The new array is: [4, 5, 6, 7, 8, 9, 1, 2, 3]\n"
     ]
    }
   ],
   "source": [
    "def split_and_add_first_part(array, split_index):\n",
    "  \n",
    "  first_part = array[:split_index]\n",
    "  second_part = array[split_index:]\n",
    "  new_array = second_part + first_part\n",
    "  return new_array\n",
    "\n",
    "\n",
    "if __name__ == \"__main__\":\n",
    "  array = [1, 2, 3, 4, 5, 6, 7, 8, 9]\n",
    "  split_index = 3\n",
    "  new_array = split_and_add_first_part(array, split_index)\n",
    "  print(\"The new array is:\", new_array)\n"
   ]
  },
  {
   "cell_type": "markdown",
   "id": "aa375779",
   "metadata": {},
   "source": [
    "### 5. Write a Python Program to check if given array is Monotonic?"
   ]
  },
  {
   "cell_type": "code",
   "execution_count": null,
   "id": "637ccf70",
   "metadata": {},
   "outputs": [],
   "source": []
  }
 ],
 "metadata": {
  "kernelspec": {
   "display_name": "Python 3 (ipykernel)",
   "language": "python",
   "name": "python3"
  },
  "language_info": {
   "codemirror_mode": {
    "name": "ipython",
    "version": 3
   },
   "file_extension": ".py",
   "mimetype": "text/x-python",
   "name": "python",
   "nbconvert_exporter": "python",
   "pygments_lexer": "ipython3",
   "version": "3.9.12"
  }
 },
 "nbformat": 4,
 "nbformat_minor": 5
}
